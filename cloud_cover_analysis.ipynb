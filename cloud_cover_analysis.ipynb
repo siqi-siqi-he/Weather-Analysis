{
 "cells": [
  {
   "cell_type": "code",
   "execution_count": 1,
   "metadata": {},
   "outputs": [],
   "source": [
    "import geopandas as gpd\n",
    "import cdsapi\n",
    "import matplotlib.pyplot as plt\n",
    "import cartopy.crs as ccrs\n",
    "import xarray as xr\n",
    "import rioxarray\n",
    "from rasterio.features import geometry_mask"
   ]
  },
  {
   "cell_type": "code",
   "execution_count": 2,
   "metadata": {},
   "outputs": [],
   "source": [
    "IF_DOWNLOAD=False\n",
    "LOCATION_PATH='locations/chn_admbnda_adm2_ocha_2020.shp'"
   ]
  },
  {
   "cell_type": "code",
   "execution_count": 3,
   "metadata": {},
   "outputs": [],
   "source": [
    "def query_data(years, dataset, request):\n",
    "\n",
    "    for year in years:\n",
    "        request['year']=year\n",
    "        client = cdsapi.Client()\n",
    "        client.retrieve(dataset, request, target=f\"cloud_cover/era5_cloudcover_{year}.nc\")\n",
    "\n",
    "if IF_DOWNLOAD:\n",
    "    years=[str(year) for year in range(1990, 2025)]\n",
    "    dataset = \"derived-era5-single-levels-daily-statistics\"\n",
    "    request = {\n",
    "        \"product_type\": \"reanalysis\",\n",
    "        \"variable\": [\"total_cloud_cover\"],\n",
    "        \"month\": [\"08\", \"09\", \"10\"],\n",
    "        \"day\": [\n",
    "            \"01\", \"02\", \"03\",\n",
    "            \"04\", \"05\", \"06\",\n",
    "            \"07\", \"08\", \"09\",\n",
    "            \"10\", \"11\", \"12\",\n",
    "            \"13\", \"14\", \"15\",\n",
    "            \"16\", \"17\", \"18\",\n",
    "            \"19\", \"20\", \"21\",\n",
    "            \"22\", \"23\", \"24\",\n",
    "            \"25\", \"26\", \"27\",\n",
    "            \"28\", \"29\", \"30\",\n",
    "            \"31\"\n",
    "        ],\n",
    "        \"daily_statistic\": \"daily_mean\",\n",
    "        \"time_zone\": \"utc+00:00\",\n",
    "        \"frequency\": \"6_hourly\",\n",
    "        \"area\": [20.5, 108.5, 18, 111.5]\n",
    "    }\n",
    "\n",
    "    query_data(years, dataset, request)\n"
   ]
  },
  {
   "cell_type": "code",
   "execution_count": 4,
   "metadata": {},
   "outputs": [],
   "source": [
    "hainan=gpd.read_file(LOCATION_PATH)\n",
    "hainan=hainan[hainan['ADM1_PCODE']=='CN046']\n",
    "hainan.drop(columns=['OBJECTID', 'Admin_type', 'Adm2_CAP', 'ADM2_PCODE', 'ADM1_ZH', 'ADM1_PCODE', 'ADM0_EN', 'ADM0_ZH', 'ADM0_PCODE'], inplace=True)"
   ]
  },
  {
   "cell_type": "code",
   "execution_count": null,
   "metadata": {},
   "outputs": [],
   "source": [
    "hainan.plot(edgecolor=\"black\", facecolor=\"lightblue\")\n",
    "plt.title(\"Hainan Map\")\n",
    "plt.show()"
   ]
  },
  {
   "cell_type": "code",
   "execution_count": null,
   "metadata": {},
   "outputs": [],
   "source": [
    "date=\"2024-09-21\"\n",
    "\n",
    "proj=ccrs.PlateCarree()\n",
    "\n",
    "fig, ax=plt.subplots(figsize=(10,8), subplot_kw={'projection': proj})\n",
    "hainan = hainan.to_crs(\"EPSG:4326\")\n",
    "hainan.boundary.plot(ax=ax, edgecolor='red', linewidth=1.5, transform=proj, zorder=2)\n",
    "ds = xr.open_dataset(\"cloud_cover/era5_cloudcover_2024.nc\")\n",
    "da_tcc = ds[\"tcc\"]\n",
    "da_tcc = da_tcc.rio.write_crs(\"EPSG:4326\")\n",
    "da_day = da_tcc.sel(valid_time=date) \n",
    "\n",
    "masked_tcc = da_day.rio.clip(hainan.geometry, hainan.crs, drop=True)\n",
    "\n",
    "masked_tcc.plot(cmap=\"viridis\", vmin=0, vmax=1)\n",
    "for _, row in hainan.iterrows():\n",
    "    city_name=row['ADM2_EN'].split(' ')[0]\n",
    "    x, y = row.geometry.centroid.x, row.geometry.centroid.y\n",
    "    ax.text(x,y,city_name, transform=proj, fontsize=8, ha='center', color='white', weight='bold', zorder=3)\n",
    "plt.title(f\"Total Cloud Cover over Hainan ({date})\")\n",
    "plt.show()"
   ]
  }
 ],
 "metadata": {
  "kernelspec": {
   "display_name": "TheAwesomeChinaTrip",
   "language": "python",
   "name": "python3"
  },
  "language_info": {
   "codemirror_mode": {
    "name": "ipython",
    "version": 3
   },
   "file_extension": ".py",
   "mimetype": "text/x-python",
   "name": "python",
   "nbconvert_exporter": "python",
   "pygments_lexer": "ipython3",
   "version": "3.10.18"
  }
 },
 "nbformat": 4,
 "nbformat_minor": 2
}
